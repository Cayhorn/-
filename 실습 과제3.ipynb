{
 "cells": [
  {
   "cell_type": "markdown",
   "id": "4f266a44-e84e-4f89-bbb1-2f8717908f3a",
   "metadata": {},
   "source": [
    "## 두 수를 입력받아 나누는 프로그램"
   ]
  },
  {
   "cell_type": "code",
   "execution_count": null,
   "id": "aa00bed8-438b-4ab2-9e55-a291331292a9",
   "metadata": {},
   "outputs": [],
   "source": [
    "n1, n2 = map(int, input().split())\n",
    "try:\n",
    "    result = n1 / n2\n",
    "except:\n",
    "    print(\"입력한 숫자를 다시 확인해주세요\")\n",
    "else:\n",
    "    print(\"{} / {} = {}\".format(n1, n2, result))\n",
    "finally:\n",
    "    print(\"Calculation complete.\")"
   ]
  },
  {
   "cell_type": "markdown",
   "id": "eaf71cfe-bbd2-4049-afa0-ef63fc81a1fe",
   "metadata": {},
   "source": [
    "### 코드 설명"
   ]
  },
  {
   "cell_type": "markdown",
   "id": "4b5b1e14-a268-4097-9b84-1a6fd3601d04",
   "metadata": {},
   "source": [
    "<pre>>>> n1, n2 = map(int, input().split())</pre>\n",
    "두 수를 공백으로 구분하여 정수로 변환한 형태로 n1, n2에 저장합니다."
   ]
  },
  {
   "cell_type": "markdown",
   "id": "ce92d6b4-1481-4296-a2de-b7cbbbe7124b",
   "metadata": {},
   "source": [
    "<pre>\n",
    ">>> try:\n",
    "        result = n1 / n2\n",
    "</pre>\n",
    "n1과 n2를 나눈 값을 result 변수에 저장합니다."
   ]
  },
  {
   "cell_type": "markdown",
   "id": "0a48d23a-ac51-49db-ae51-bd066c4f2f05",
   "metadata": {},
   "source": [
    "___________________________________________"
   ]
  },
  {
   "cell_type": "markdown",
   "id": "7c836522-eedd-4b97-90d4-a1829d8138dc",
   "metadata": {},
   "source": [
    "<pre>\n",
    ">>> except:\n",
    "        print(\"입력한 숫자를 다시 확인해주세요\")\n",
    "</pre>\n",
    "try구문의\n",
    "<pre>>>> result = n1 / n2</pre>에서 오류가 발생할 경우에 오류코드 대신 나타나는 예외처리입니다."
   ]
  },
  {
   "cell_type": "markdown",
   "id": "ca655c61-a4b1-4631-9292-d0514f7cddc9",
   "metadata": {},
   "source": [
    "___________________________________________"
   ]
  },
  {
   "cell_type": "markdown",
   "id": "82ab4b57-d5ab-405e-8bda-44dbe50c6547",
   "metadata": {},
   "source": [
    "<pre>\n",
    ">>> else:\n",
    "        print(\"{} / {} = {}\".format(n1, n2, result))\n",
    "</pre>\n",
    "try구문의\n",
    "<pre>>>> result = n1 / n2</pre>에서 오류가 발생하지 않을 경우 처리하는 명령입니다. format메서드를 통해 문자열 내의 \"{ }\"를 매개변수 n1, n2, result로 채웁니다."
   ]
  },
  {
   "cell_type": "markdown",
   "id": "5bf5ed78-85d0-44fa-83d3-5042f57d1a72",
   "metadata": {},
   "source": [
    "___________________________________________"
   ]
  },
  {
   "cell_type": "markdown",
   "id": "780997b7-3147-499b-9151-ae34279ceccc",
   "metadata": {},
   "source": [
    "<pre>\n",
    ">>> finally:\n",
    "            print(\"Calculation complete.\")\n",
    "</pre>\n",
    "try 구문을 실행한 후 출력합니다."
   ]
  }
 ],
 "metadata": {
  "kernelspec": {
   "display_name": "Python 3 (ipykernel)",
   "language": "python",
   "name": "python3"
  },
  "language_info": {
   "codemirror_mode": {
    "name": "ipython",
    "version": 3
   },
   "file_extension": ".py",
   "mimetype": "text/x-python",
   "name": "python",
   "nbconvert_exporter": "python",
   "pygments_lexer": "ipython3",
   "version": "3.11.7"
  }
 },
 "nbformat": 4,
 "nbformat_minor": 5
}
